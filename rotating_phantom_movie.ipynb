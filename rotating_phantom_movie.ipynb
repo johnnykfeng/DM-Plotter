{
 "cells": [
  {
   "cell_type": "markdown",
   "metadata": {},
   "source": [
    "### IDEA: \n",
    "1. Only use every 10th frame\n"
   ]
  },
  {
   "cell_type": "code",
   "execution_count": 1,
   "metadata": {},
   "outputs": [],
   "source": [
    "from utility_functions import get_data_info, sort_module_order\n",
    "import numpy as np\n",
    "import scipy.io\n",
    "import os\n",
    "import plotly.express as px\n",
    "import zipfile\n",
    "from config import BIN_LABELS, MM_ORDER\n",
    "\n"
   ]
  },
  {
   "cell_type": "code",
   "execution_count": 20,
   "metadata": {},
   "outputs": [],
   "source": [
    "def get_file_name(file_path, remove_extension=False):\n",
    "    if remove_extension:\n",
    "        file_name = os.path.basename(file_path)\n",
    "        file_name = file_name.replace(\".mat\", \"\")\n",
    "        return file_name\n",
    "    else:\n",
    "        return os.path.basename(file_path)\n",
    "\n"
   ]
  },
  {
   "cell_type": "code",
   "execution_count": 2,
   "metadata": {},
   "outputs": [
    {
     "name": "stdout",
     "output_type": "stream",
     "text": [
      "Extracted 16 .mat files.\n"
     ]
    }
   ],
   "source": [
    "phantom_data = r\"IGNORE\\2025-01-29-Static-Scans-Phantoms-1kHz-Rotation\\phantom_W_beads_1kHz_SDD_341_0.1Cu_13p8Al_3mA_2000_frames_0.001_resolution_20PE\"\n",
    "\n",
    "# Extract all files with .mat extension\n",
    "def extract_mat_files(folder_path):\n",
    "    mat_files = []\n",
    "    for root, dirs, files in os.walk(folder_path):\n",
    "        for file in files:\n",
    "            if file.endswith(\".mat\"):\n",
    "                mat_files.append(os.path.join(root, file))\n",
    "    return mat_files\n",
    "\n",
    "# Example usage\n",
    "mat_files = extract_mat_files(phantom_data)\n",
    "print(f\"Extracted {len(mat_files)} .mat files.\")\n"
   ]
  },
  {
   "cell_type": "code",
   "execution_count": 12,
   "metadata": {},
   "outputs": [
    {
     "name": "stdout",
     "output_type": "stream",
     "text": [
      "Extracted 16 .mat files from phantom data.\n",
      "(7, 500, 24, 36)\n",
      "(7, 500, 24, 36)\n",
      "(7, 500, 24, 36)\n",
      "(7, 500, 24, 36)\n",
      "(7, 500, 24, 36)\n",
      "(7, 500, 24, 36)\n",
      "(7, 500, 24, 36)\n",
      "(7, 500, 24, 36)\n",
      "(7, 500, 24, 36)\n",
      "(7, 500, 24, 36)\n",
      "(7, 500, 24, 36)\n",
      "(7, 500, 24, 36)\n",
      "(7, 500, 24, 36)\n",
      "(7, 500, 24, 36)\n",
      "(7, 500, 24, 36)\n",
      "(7, 500, 24, 36)\n"
     ]
    }
   ],
   "source": [
    "test_mat_files = extract_mat_files(phantom_data)\n",
    "print(f\"Extracted {len(test_mat_files)} .mat files from phantom data.\")\n",
    "for test_mat_file in test_mat_files:\n",
    "    test_mat_file = scipy.io.loadmat(test_mat_file)\n",
    "    cc_data = test_mat_file[\"cc_struct\"][\"data\"][0][0][0][0][0]\n",
    "    # cc_data[0, bin_id, frame_number, y(24 max), x(36 max)]\n",
    "    cc_data = cc_data[0, :, 0:500, :, :] # crop to 500 frames\n",
    "    print(cc_data.shape)\n",
    "\n"
   ]
  },
  {
   "cell_type": "code",
   "execution_count": 21,
   "metadata": {},
   "outputs": [
    {
     "name": "stdout",
     "output_type": "stream",
     "text": [
      "Extracted 16 .mat files from airnorm data.\n",
      "M58618-A0.mat\n",
      "(7, 2000, 36)\n"
     ]
    },
    {
     "ename": "TypeError",
     "evalue": "expected str, bytes or os.PathLike object, not dict",
     "output_type": "error",
     "traceback": [
      "\u001b[1;31m---------------------------------------------------------------------------\u001b[0m",
      "\u001b[1;31mTypeError\u001b[0m                                 Traceback (most recent call last)",
      "Cell \u001b[1;32mIn[21], line 15\u001b[0m\n\u001b[0;32m     13\u001b[0m cc_data_averaged_over_frames \u001b[38;5;241m=\u001b[39m np\u001b[38;5;241m.\u001b[39mmean(cc_data[\u001b[38;5;241m0\u001b[39m, :, :, :, :], axis\u001b[38;5;241m=\u001b[39m\u001b[38;5;241m2\u001b[39m)\n\u001b[0;32m     14\u001b[0m \u001b[38;5;28mprint\u001b[39m(cc_data_averaged_over_frames\u001b[38;5;241m.\u001b[39mshape)\n\u001b[1;32m---> 15\u001b[0m air_norm_mat_files_dict[\u001b[43mget_file_name\u001b[49m\u001b[43m(\u001b[49m\u001b[43mair_norm_mat_file\u001b[49m\u001b[43m)\u001b[49m] \u001b[38;5;241m=\u001b[39m cc_data_averaged_over_frames\n",
      "Cell \u001b[1;32mIn[20], line 7\u001b[0m, in \u001b[0;36mget_file_name\u001b[1;34m(file_path, remove_extension)\u001b[0m\n\u001b[0;32m      5\u001b[0m     \u001b[38;5;28;01mreturn\u001b[39;00m file_name\n\u001b[0;32m      6\u001b[0m \u001b[38;5;28;01melse\u001b[39;00m:\n\u001b[1;32m----> 7\u001b[0m     \u001b[38;5;28;01mreturn\u001b[39;00m \u001b[43mos\u001b[49m\u001b[38;5;241;43m.\u001b[39;49m\u001b[43mpath\u001b[49m\u001b[38;5;241;43m.\u001b[39;49m\u001b[43mbasename\u001b[49m\u001b[43m(\u001b[49m\u001b[43mfile_path\u001b[49m\u001b[43m)\u001b[49m\n",
      "File \u001b[1;32m<frozen ntpath>:244\u001b[0m, in \u001b[0;36mbasename\u001b[1;34m(p)\u001b[0m\n",
      "File \u001b[1;32m<frozen ntpath>:213\u001b[0m, in \u001b[0;36msplit\u001b[1;34m(p)\u001b[0m\n",
      "\u001b[1;31mTypeError\u001b[0m: expected str, bytes or os.PathLike object, not dict"
     ]
    }
   ],
   "source": [
    "air_norm_folder = r\"IGNORE\\2025-01-29-Static-Scans-Phantoms-1kHz-Rotation\\airnorm_SDD_341_0.1Cu_13p8Al_3mA_2000_frames_0.001_resolution_20PE\"\n",
    "\n",
    "air_norm_mat_files = extract_mat_files(air_norm_folder)\n",
    "print(f\"Extracted {len(air_norm_mat_files)} .mat files from airnorm data.\")\n",
    "\n",
    "air_norm_mat_files_dict = {}\n",
    "for air_norm_mat_file in air_norm_mat_files:\n",
    "    # print(air_norm_mat_file)\n",
    "    print(get_file_name(air_norm_mat_file))\n",
    "    air_norm_mat_file = scipy.io.loadmat(air_norm_mat_file)\n",
    "    cc_data = air_norm_mat_file[\"cc_struct\"][\"data\"][0][0][0][0][0]\n",
    "    # cc_data[0, bin_id, frame_number, y(24 max), x(36 max)]\n",
    "    cc_data_averaged_over_frames = np.mean(cc_data[0, :, :, :, :], axis=2)\n",
    "    print(cc_data_averaged_over_frames.shape)\n",
    "    air_norm_mat_files_dict[get_file_name(air_norm_mat_file)] = cc_data_averaged_over_frames\n",
    "\n",
    "\n",
    "\n",
    "\n"
   ]
  },
  {
   "cell_type": "code",
   "execution_count": null,
   "metadata": {},
   "outputs": [],
   "source": []
  },
  {
   "cell_type": "code",
   "execution_count": null,
   "metadata": {},
   "outputs": [],
   "source": []
  },
  {
   "cell_type": "code",
   "execution_count": null,
   "metadata": {},
   "outputs": [],
   "source": []
  },
  {
   "cell_type": "code",
   "execution_count": null,
   "metadata": {},
   "outputs": [],
   "source": []
  }
 ],
 "metadata": {
  "kernelspec": {
   "display_name": ".venv",
   "language": "python",
   "name": "python3"
  },
  "language_info": {
   "codemirror_mode": {
    "name": "ipython",
    "version": 3
   },
   "file_extension": ".py",
   "mimetype": "text/x-python",
   "name": "python",
   "nbconvert_exporter": "python",
   "pygments_lexer": "ipython3",
   "version": "3.11.6"
  }
 },
 "nbformat": 4,
 "nbformat_minor": 2
}
